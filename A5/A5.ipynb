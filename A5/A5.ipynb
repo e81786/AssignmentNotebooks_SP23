{
 "cells": [
  {
   "cell_type": "code",
   "execution_count": null,
   "id": "5bce8051",
   "metadata": {
    "deletable": false,
    "editable": false
   },
   "outputs": [],
   "source": [
    "# Initialize Otter\n",
    "import otter\n",
    "grader = otter.Notebook(\"A5.ipynb\")"
   ]
  },
  {
   "cell_type": "markdown",
   "id": "a609f848",
   "metadata": {
    "nbgrader": {
     "grade": false,
     "grade_id": "cell-68f2f0ed9883b594",
     "locked": true,
     "schema_version": 3,
     "solution": false,
     "task": false
    }
   },
   "source": [
    "# Assignment 5\n",
    "\n",
    "\n",
    "## **Due: May 12th (Friday), 2023, 8:00pm (PT)**\n",
    "\n",
    "### **Instructions:**\n",
    "\n",
    "Your Jupyter notebook assignment will often have 3 elements: written answers, code answers, and quiz answers. For written answers, you may insert images of your handwritten work in code cells, or write your answers in markdown and LaTeX. For quiz answers, your `record.txt` file will record your answer choices in the quiz modules for submission. Both your quiz answers and code answers will be autograded on Gradescope. This assignment does not have the quiz portion.\n",
    "\n",
    "For all elements, DO NOT MODIFY THE CELLS. Put your answers **only** in the answer cells given, and **do not delete cells**. If you fail to follow these instructions, you will lose points on your submission.\n",
    "\n",
    "Make sure to show the steps of your solution for every question to receive credit, not just the final answer. You may search information online but you will need to write code/find solutions to answer the questions yourself. You will submit your .ipynb file and record.txt to gradescope when you are finished.\n",
    "\n",
    "### How to Include Your Math Written Answer?\n",
    "\n",
    "You could use inline $\\LaTeX$ in markdown (recommended) or use markdowns' include image functionality to submit your written responses.\n",
    "\n",
    "#### $\\LaTeX$ (recommended)\n",
    "[Here is a fantastic tutorial from CalTech about using $\\LaTeX$ in Jupyter Notebook.](http://chebe163.caltech.edu/2018w/handouts/intro_to_latex.html). You could also find various $\\LaTeX$ tutorials and cheat sheets online.\n",
    "\n",
    "#### Include Images\n",
    "If you are still getting familiar with using LaTeX, handwrite the response on paper or the stylus. Take a picture or screenshot of your answer, and include that image in the Jupyter Notebook. Be sure to include that image in the `\\imgs` directory. Let's say you have your Q1 response saved as `imgs/Q1.png`; the markdown syntax to include that image is `![Q1](imgs/Q1.png)`. \n",
    "\n",
    "## Important Notice\n",
    "\n",
    "You must check both submission output on the gradescope (`Assignment 5` and `Assignment 5 - Manual Grading`) correctly reflects your work and responses. If you notice inconsistencies between your notebook and the Manual Grading portion, you need to make a campuswire post, and we can help you with that.\n",
    "\n",
    "**Other**\n",
    "\n",
    "If you are not feeling comfortable with the programming assignments in this homework, it might help to take a look at [https://github.com/UCSD-COGS108/Tutorials](https://github.com/UCSD-COGS108/Tutorials)."
   ]
  },
  {
   "cell_type": "code",
   "execution_count": null,
   "id": "8026a3d1",
   "metadata": {},
   "outputs": [],
   "source": [
    "%load_ext autoreload\n",
    "%autoreload 2\n",
    "\n",
    "# Run me\n",
    "# !pip uninstall -y otter-grader\n",
    "# !pip install -q  git+https://github.com/scott-yj-yang/otter-grader.git --no-warn-script-location"
   ]
  },
  {
   "cell_type": "markdown",
   "id": "2343da01",
   "metadata": {},
   "source": [
    "# Nested Cross Validation\n",
    "\n",
    "For multiple choice questions, write your solution as a list of strings by replacing the \"...\" \n",
    "\n",
    "Ex.: `[\"A\", \"C\"]` if you think the answers are A and C) and `[\"A\"]` if you think the answer is A."
   ]
  },
  {
   "cell_type": "markdown",
   "id": "76ca329a",
   "metadata": {},
   "source": [
    "1) What is nested cross validation best used for?\n",
    "- A) Hyperparamter tuning\n",
    "- B) Estimating the variance of fit\n",
    "- C) Algorithm selection\n",
    "- D) Maximizing accuracy\n",
    "\n",
    "2) In which order is the data in the cross-validation loops split in nested cross-validation?\n",
    "- A) The inner loop is split first, followed by the outer loop\n",
    "- B) The outer loop is split first, followed by the inner loop\n",
    "- C) Both loops are split simultaneously\n",
    "- D) The order of execution is random\n",
    "\n",
    "3) If we want to compare logistic regression with k-NN, we should compare...\n",
    "- A) The mean performance of the outer loops\n",
    "- B) The best performance from the inner loops\n",
    "- C) The best performance of the outer loops\n",
    "- D) The mean performance of the inner loops\n",
    "\n",
    "4) How might nested cross-validation help prevent overfitting to hyperparameters in machine learning?\n",
    "- A) It uses a larger training set to avoid overfitting\n",
    "- B) It randomly selects hyperparameters to reduce the risk of overfitting\n",
    "- C) It estimates the model's performance on new, unseen data to avoid overfitting\n",
    "- D) It uses a more complex model to better fit the data\n",
    "\n",
    "\n",
    "\n",
    "_Points:_ 1.5"
   ]
  },
  {
   "cell_type": "code",
   "execution_count": null,
   "id": "4f15c76a",
   "metadata": {
    "tags": []
   },
   "outputs": [],
   "source": [
    "nested_1 = ...\n",
    "nested_2 = ...\n",
    "nested_3 = ...\n",
    "nested_4 = ..."
   ]
  },
  {
   "cell_type": "markdown",
   "id": "33bf7e72",
   "metadata": {},
   "source": [
    "# Optimizers\n",
    "\n",
    "For multiple choice questions, write your solution as a list of strings by replacing the \"...\" \n",
    "\n",
    "Ex.: `[\"A\", \"C\"]` if you think the answers are A and C) and `[\"A\"]` if you think the answer is A. For True or False, use [\"A\"] for True and [\"B\"] for False."
   ]
  },
  {
   "cell_type": "markdown",
   "id": "5c5082e7",
   "metadata": {},
   "source": [
    "1) Which of the following forms of gradient descent is most susceptible to noise and variance in the gradient update?\n",
    "- A) Stochastic Gradient Descent (SGD)\n",
    "- B) Batch Gradient Descent (BGD)\n",
    "- C) Mini-Batch Gradient Descent (MBGD)\n",
    "- D) None of the above\n",
    "\n",
    "\n",
    "2) Which of the following forms of gradient descent will likely produce the most accurate gradient estimate of your cost function?\n",
    "- A) Stochastic Gradient Descent (SGD)\n",
    "- B) Batch Gradient Descent (BGD)\n",
    "- C) Mini-Batch Gradient Descent (MBGD)\n",
    "- D) None of the above\n",
    "\n",
    "\n",
    "3) Which of the following optimization algorithms is the most efficient in practice for making gradient updates?\n",
    "- A) Stochastic Gradient Descent (SGD)\n",
    "- B) Batch Gradient Descent (BGD)\n",
    "- C) Mini-Batch Gradient Descent (MBGD)\n",
    "- D) None of the above\n",
    "\n",
    "4) True or False: Newton's method utilizes the Jacobian and Hessian matrices in the gradient update. (hint: What is the Jacobian? What is the Hessian?)\n",
    "\n",
    "5) Match the method to its graph: `[SGD, MBGD, BGD]`. Write your answers from left to right, so that your answer is in the format of `[\"A\", \"B\", \"C\"]`, if you think A is SGD, etc.\n",
    "\n",
    "![gradients](imgs/gradients.png)\n",
    "\n",
    "_Points:_ 1.5"
   ]
  },
  {
   "cell_type": "code",
   "execution_count": null,
   "id": "57d1fcd3",
   "metadata": {
    "tags": []
   },
   "outputs": [],
   "source": [
    "optimizers_1 = ...\n",
    "optimizers_2 = ...\n",
    "optimizers_3 = ...\n",
    "optimizers_4 = ...\n",
    "optimizers_5 = ..."
   ]
  },
  {
   "cell_type": "markdown",
   "id": "610c793c",
   "metadata": {},
   "source": [
    "# End of A5"
   ]
  },
  {
   "cell_type": "markdown",
   "id": "84bcdf68",
   "metadata": {
    "deletable": false,
    "editable": false
   },
   "source": [
    "## Submission\n",
    "\n",
    "Make sure you have run all cells in your notebook in order before running the cell below, so that all images/graphs appear in the output. The cell below will generate a zip file for you to submit.\n",
    "\n",
    "Please make sure to see the output of the gradescope autograder. You are responsible for waiting and ensuring that the autograder is executing normally for your submission. Please create a campuswire post if you see errors in autograder execution."
   ]
  },
  {
   "cell_type": "code",
   "execution_count": null,
   "id": "4d517774",
   "metadata": {
    "deletable": false,
    "editable": false
   },
   "outputs": [],
   "source": [
    "grader.export(pdf=False, force_save=True, run_tests=True)"
   ]
  },
  {
   "cell_type": "markdown",
   "id": "8cacde45",
   "metadata": {},
   "source": [
    " "
   ]
  }
 ],
 "metadata": {
  "celltoolbar": "Raw Cell Format",
  "kernelspec": {
   "display_name": "Python 3 (ipykernel)",
   "language": "python",
   "name": "python3"
  },
  "language_info": {
   "codemirror_mode": {
    "name": "ipython",
    "version": 3
   },
   "file_extension": ".py",
   "mimetype": "text/x-python",
   "name": "python",
   "nbconvert_exporter": "python",
   "pygments_lexer": "ipython3",
   "version": "3.9.6"
  },
  "otter": {
   "OK_FORMAT": true,
   "tests": {
    "nestedCV": {
     "name": "nestedCV",
     "points": 1.5,
     "suites": [
      {
       "cases": [],
       "scored": true,
       "setup": "",
       "teardown": "",
       "type": "doctest"
      }
     ]
    },
    "optimizer": {
     "name": "optimizer",
     "points": 1.5,
     "suites": [
      {
       "cases": [],
       "scored": true,
       "setup": "",
       "teardown": "",
       "type": "doctest"
      }
     ]
    }
   }
  }
 },
 "nbformat": 4,
 "nbformat_minor": 5
}
