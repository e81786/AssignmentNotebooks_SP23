{
 "cells": [
  {
   "cell_type": "markdown",
   "id": "d1177fae",
   "metadata": {
    "nbgrader": {
     "grade": false,
     "grade_id": "cell-68f2f0ed9883b594",
     "locked": true,
     "schema_version": 3,
     "solution": false,
     "task": false
    }
   },
   "source": [
    "# Assignment 1\n",
    "\n",
    "\n",
    "## **Due: April 12th (Wednesday), 2023, 8pm (Pacific Time)**\n",
    "\n",
    "### **Instructions:**\n",
    "\n",
    "Your Jupyter notebook assignment will often have 3 elements: written answers, code answers, and quiz answers. For written answers, you may insert images of your handwritten work in code cells, or write your answers in markdown and LaTeX. For quiz answers, your `record.txt` file will record your answer choices in the quiz modules for submission. Both your quiz answers and code answers will be autograded on Gradescope. This assignment does not have the quiz portion.\n",
    "\n",
    "For all elements, DO NOT MODIFY THE CELLS. Put your answers **only** in the answer cells given, and **do not delete cells**. If you fail to follow these instructions, you will lose points on your submission.\n",
    "\n",
    "Make sure to show the steps of your solution for every question to receive credit, not just the final answer. You may search information online but you will need to write code/find solutions to answer the questions yourself. You will submit your .ipynb file and record.txt to gradescope when you are finished.\n",
    "\n",
    "### **Late Policy:**\n",
    "\n",
    "Late assignments will be accepted at 75% credit up to one week late. Consult the syllabus for more info on the late policy.\n",
    "\n",
    "### How to Include Your Math Written Answer?\n",
    "\n",
    "You could use inline $\\LaTeX$ in markdown (recommended) or use markdowns' include image functionality to submit your written responses.\n",
    "\n",
    "#### $\\LaTeX$ (recommended)\n",
    "[Here is a fantastic tutorial from CalTech about using $\\LaTeX$ in Jupyter Notebook.](http://chebe163.caltech.edu/2018w/handouts/intro_to_latex.html). You could also find various $\\LaTeX$ tutorials and cheat sheets online.\n",
    "\n",
    "#### Include Images\n",
    "If you are still getting familiar with using LaTeX, handwrite the response on paper or the stylus. Take a picture or screenshot of your answer, and include that image in the Jupyter Notebook. Be sure to include that image in the `\\imgs` directory. Let's say you have your Q1 response saved as `imgs/Q1.png`; the markdown syntax to include that image is `![Q1](imgs/Q1.png)`. \n",
    "\n",
    "## Important Notice\n",
    "\n",
    "Only the response in the cell of _`Type your answer here, replacing this text.`_ will be recorded. Any additional cell will not be graded.\n",
    "\n",
    "You must check both submission output on the gradescope (`Assignment 1 - Notebook` and `Assignment 1 - Manual Grading`) correctly reflects your work and responses. If you notice inconsistencies between your notebook and the Manual Grading portion, you need to make a campuswire post, and we can help you with that.\n",
    "\n",
    "**Other**\n",
    "\n",
    "If you are not feeling comfortable with the programming assignments in this homework, it might help to take a look at [https://github.com/UCSD-COGS108/Tutorials](https://github.com/UCSD-COGS108/Tutorials)."
   ]
  },
  {
   "cell_type": "code",
   "execution_count": 1,
   "id": "c87b3d0d",
   "metadata": {},
   "outputs": [
    {
     "name": "stdout",
     "output_type": "stream",
     "text": [
      "Found existing installation: otter-grader 4.3.1\n",
      "Uninstalling otter-grader-4.3.1:\n",
      "  Successfully uninstalled otter-grader-4.3.1\n"
     ]
    }
   ],
   "source": [
    "%load_ext autoreload\n",
    "%autoreload 2\n",
    "\n",
    "# Run me\n",
    "!pip uninstall -y otter-grader\n",
    "!pip install -q  git+https://github.com/scott-yj-yang/otter-grader.git --no-warn-script-location\n",
    "    \n",
    "# Initialize Otter\n",
    "import otter\n",
    "grader = otter.Notebook(\"A1.ipynb\")"
   ]
  },
  {
   "cell_type": "markdown",
   "id": "6be8054d",
   "metadata": {},
   "source": [
    "<!-- BEGIN QUESTION -->\n",
    "\n",
    "## Question 1: Basic Calculus\n",
    "\n",
    "### 1.1 Derivatives with Scalars\n",
    "1. $f(x) = 2\\lambda + e^{\\lambda x}$, where $\\lambda$ is a constant, derive $\\frac{\\partial f(x)}{\\partial x}$.\n",
    "\n",
    "2. $f(x) = \\ln (3 - e^x)$, derive  $\\frac{\\partial f(x)}{\\partial x}$\n",
    "\n",
    "**Note:** Only the response in the cell of _`Type your answer here, replacing this text.`_ will be recorded. Any additional cell will not be graded.\n",
    "\n",
    "_Points:_ 0.4"
   ]
  },
  {
   "cell_type": "markdown",
   "id": "e8e48499",
   "metadata": {},
   "source": [
    "1. $$\\begin{aligned} f(x) &= 2\\lambda + e^{\\lambda x} \\\\ \\frac{\\partial f(x)}{\\partial x} &= \\frac{\\partial (2\\lambda + e^{\\lambda x})}{\\partial x} \\\\ \\frac{\\partial f(x)}{\\partial x} &= \\lambda e^{\\lambda x} \\end{aligned}$$ \n",
    "<br />\n",
    "2. $$\\begin{aligned}f(x) &= \\ln (3 - e^x) \\\\ \\frac{\\partial f(x)}{\\partial x} &= \\frac{\\partial (\\ln (3 - e^x))}{\\partial x} \\\\ \n",
    "\\frac{\\partial f(x)}{\\partial x} &= - \\frac{e^x}{3 - e^x}\\end{aligned}$$"
   ]
  },
  {
   "cell_type": "markdown",
   "id": "84678a88",
   "metadata": {},
   "source": [
    "<!-- END QUESTION -->\n",
    "\n",
    "<!-- BEGIN QUESTION -->\n",
    "\n",
    "\n",
    "### 1.2 Derivatives with Vectors\n",
    "Several particular vector derivatives are useful for the course. For matrix **A**, column vector **x** and **a**, we have:\n",
    "\n",
    "- $\\frac{\\partial \\mathbf a^T \\mathbf x}{\\partial \\mathbf x} = \\frac{\\partial \\mathbf x^T \\mathbf a}{\\partial \\mathbf x} = \\mathbf a$ \n",
    "- $\\frac{\\partial \\mathbf x^T \\mathbf A \\mathbf x}{\\partial \\mathbf x} = (\\mathbf A + \\mathbf A^T) \\mathbf x$. If $\\mathbf A$ is symmetric, $\\frac{\\partial \\mathbf x^T \\mathbf A \\mathbf x}{\\partial \\mathbf x} = 2 \\mathbf A \\mathbf x$.\n",
    "\n",
    "\n",
    "The above rules adopt a denominator-layout notation. For more rules, you can refer to [this Wikipedia page](https://en.wikipedia.org/wiki/Matrix_calculus#Scalar-by-vector_identities). Please apply the above rules and calculate the following derivatives:\n",
    "\n",
    "1. $f(x) = \\lambda (1- \\mathbf a^T \\mathbf x)$, where $\\lambda$ is a constant, derive $\\frac{\\partial f(\\mathbf x)}{\\partial \\mathbf x}$.\n",
    "\n",
    "2. $f(x) = \\lambda (1 - \\mathbf x^T \\mathbf A \\mathbf x)$ where $A$ is a symmetric matrix and $\\lambda$ is a constant, derive  $\\frac{\\partial f(\\mathbf x)}{\\partial \\mathbf x}$.\n",
    "\n",
    "\n",
    "**Note:** Only the response in the cell of _`Type your answer here, replacing this text.`_ will be recorded. Any additional cell will not be graded.\n",
    "\n",
    "_Points:_ 0.4"
   ]
  },
  {
   "cell_type": "markdown",
   "id": "180bc633",
   "metadata": {},
   "source": [
    "1. $$\\begin{aligned} f(x) &= \\lambda (1 - \\mathbf a^T \\mathbf x) \\\\ \\frac{\\partial f(\\mathbf x)}{\\partial \\mathbf x} &= \\frac{\\partial (\\lambda (1 - \\mathbf a^T \\mathbf x))}{\\partial \\mathbf x} \\\\ \\frac{\\partial f(\\mathbf x)}{\\partial \\mathbf x} &= \\lambda \\frac{\\partial (1 - \\mathbf a^T \\mathbf x)}{\\partial \\mathbf x} \\\\ \\frac{\\partial f(\\mathbf x)}{\\partial \\mathbf x} &= \\lambda (- \\mathbf a^T) \\\\ \\frac{\\partial f(\\mathbf x)}{\\partial \\mathbf x} &= - \\lambda \\mathbf a^T \\end{aligned}$$ \n",
    "<br />\n",
    "\n",
    "2. $$\\begin{aligned} f(x) &= \\lambda (1 - \\mathbf x^T \\mathbf A \\mathbf x) \\\\ \\frac{\\partial f(\\mathbf x)}{\\partial \\mathbf x} &= \\frac{\\partial (\\lambda (1 - \\mathbf x^T \\mathbf A \\mathbf x))}{\\partial \\mathbf x} \\\\ \\frac{\\partial f(\\mathbf x)}{\\partial \\mathbf x} &= \\lambda \\frac{\\partial (1 - \\mathbf x^T \\mathbf A \\mathbf x)}{\\partial \\mathbf x} \\\\ \\frac{\\partial f(\\mathbf x)}{\\partial \\mathbf x} &= \\lambda (- 2 \\mathbf A \\mathbf x) \\\\ \\frac{\\partial f(\\mathbf x)}{\\partial \\mathbf x} &= - 2 \\lambda \\mathbf A \\mathbf x \\end{aligned}$$"
   ]
  },
  {
   "cell_type": "markdown",
   "id": "cce18894",
   "metadata": {},
   "source": [
    "<!-- END QUESTION -->\n",
    "\n",
    "<!-- BEGIN QUESTION -->\n",
    "\n",
    "## Question 2: Solving Equations\n",
    "\n",
    "1. Given a system of linear equations:\n",
    "\n",
    "    $$\n",
    "    \\begin{cases}\n",
    "    -3 w_1 + 4 w_2 & = 1 \\\\\n",
    "    w_1 - 2 w_2 & = -1\n",
    "    \\end{cases}\n",
    "    $$\n",
    "\n",
    "     a) Solve for $(w_1, w_2)$.\n",
    "\n",
    "     b) Once you obtain $(w_1, w_2)$ in Part a, please calculate final result $y$ from $y = w_1x_1 + w_2x_2$ when $(x_1, x_2) = (2, 3)$.\n",
    "\n",
    "2. Given a system of equations:\n",
    "\n",
    " $$\n",
    "    \\begin{cases}\n",
    "    -3 w_1 + 4 w_2 & = b \\\\\n",
    "    w_1 - 2 w_2 & = -b \\\\\n",
    "    w_1^2 + w_2^2 & = 1\n",
    "    \\end{cases}\n",
    "    $$\n",
    "\n",
    "Solve for $(w_1, w_2, b)$.\n",
    "\n",
    "**Note:** Only the response in the cell of _`Type your answer here, replacing this text.`_ will be recorded. Any additional cell will not be graded.\n",
    "\n",
    "_Points:_ 0.4"
   ]
  },
  {
   "cell_type": "markdown",
   "id": "4374eb04",
   "metadata": {},
   "source": [
    "1a. $$\\begin{aligned} - 3 w_1 + 4 w_2 &= 1 \\\\ -3 w_1 &= 1 - 4 w_2 \\\\ w_1 &= -\\frac{1}{3} + \\frac{4}{3} w_2 \\\\ (-\\frac{1}{3} + \\frac{4}{3} w_2) - 2 w_2 &= -1 \\\\\n",
    "-\\frac{1}{3} - \\frac{2}{3} w_2 &= -1 \\\\ -\\frac{2}{3} w_2 &= -\\frac{2}{3} \\\\ w_2 &= 1 \\\\ w_1 - 2(1) &= -1 \\\\ w_1 - 2 &= -1 \\\\ w_1 &= 1 \\\\ (w_1, w_2) &= (1,1) \\end{aligned}$$\n",
    "\n",
    "<br />\n",
    "\n",
    "1b. $$\\begin{aligned} y &= w_1x_1 + w_2x_2 \\\\ (x_1, x_2) &= (2, 3) \\\\ y &= (1)(2) + (1)(3) \\\\ y &= 2 + 3 \\\\ y &= 5 \\end{aligned}$$ \n",
    "\n",
    "<br />\n",
    "\n",
    "2. $$\\begin{aligned} -3 w_1 + 4 w_2  &= b \\\\\n",
    "    w_1 - 2 w_2  &= -b \\\\ -2w_1 + 2w_2 &= 0 \\\\ w_1 &= w_2 \\\\\n",
    "    w_1^2 + (w_1)^2 &= 1 \\\\ 2(w_1^2) &= 1 \\\\ w_1^2 &= \\frac{1}{2} \\\\ w_1 = w_2 &= \\pm \\sqrt{\\frac{1}{2}} \\\\ \n",
    "    w_1 - 2w_2 &= -b \\\\ b &= 2w_2 - w_1 \\\\ b &= 2(\\sqrt{\\frac{1}{2}}) - (\\sqrt{\\frac{1}{2}}) \\\\ b &= \\sqrt{\\frac{1}{2}} \\\\ b &= 2(- \\sqrt{\\frac{1}{2}}) - (\\sqrt{\\frac{1}{2}}) \\\\ b &= -3 \\sqrt{\\frac{1}{2}} \\\\ b &= 2(\\sqrt{\\frac{1}{2}}) - (- \\sqrt{\\frac{1}{2}}) \\\\ b &= 3 \\sqrt{\\frac{1}{2}}\\\\ b &= 2(- \\sqrt{\\frac{1}{2}}) - (- \\sqrt{\\frac{1}{2}}) \\\\ b &= - \\sqrt{\\frac{1}{2}} \\\\\n",
    "    (w_1, w_2, b) &= \\begin{cases} \n",
    "    (\\sqrt{\\frac{1}{2}}, \\sqrt{\\frac{1}{2}}, \\sqrt{\\frac{1}{2}}) \\\\ \n",
    "    (- \\sqrt{\\frac{1}{2}}, \\sqrt{\\frac{1}{2}}, -3 \\sqrt{\\frac{1}{2}}) \\\\ \n",
    "    (\\sqrt{\\frac{1}{2}}, - \\sqrt{\\frac{1}{2}}, 3 \\sqrt{\\frac{1}{2}}) \\\\ \n",
    "    (- \\sqrt{\\frac{1}{2}}, - \\sqrt{\\frac{1}{2}}, - \\sqrt{\\frac{1}{2}}) \\\\ \n",
    "    \\end{cases} \\end{aligned}$$"
   ]
  },
  {
   "cell_type": "markdown",
   "id": "b5af7625",
   "metadata": {},
   "source": [
    "<!-- END QUESTION -->\n",
    "\n",
    "<!-- BEGIN QUESTION -->\n",
    "\n",
    "## Question 3: One-Hot Encoding\n",
    "\n",
    "A dataset $S$ is denoted as $S=\\{{\\bf x}_1,{\\bf x}_2,{\\bf x}_3,{\\bf x}_4,{\\bf x}_5 \\}$, where each sample refers to the specification of a car.\n",
    "\n",
    "Represent this dataset $S$ using a matrix and show how your one-hot encoding is derived. \n",
    "\n",
    "**Hint**: (1) For the categorical features, you may use the one-hot encoding strategy. (2) You may choose either a row vector or a column vector to represent each data sample in your result. If you use a row vector to represent each data sample, the shape of the resulting matrix should be $5\\times9$.\n",
    "\n",
    "|          | Length (inch) | Height (inch) | Make   | Color  |\n",
    "|----------|----------------|----------------|--------|--------|\n",
    "| ${\\bf x}_1$ | 183            | 62             | Toyota | Blue   |\n",
    "| ${\\bf x}_2$ | 181            | 65             | BMW    | Silver |\n",
    "| ${\\bf x}_3$ | 182            | 59             | BMW    | Red    |\n",
    "| ${\\bf x}_4$ | 179            | 68             | Ford   | Blue   |\n",
    "| ${\\bf x}_5$ | 182            | 53             | Toyota | Black  |\n",
    "\n",
    "\n",
    "**Note:** Only the response in the cell of _`Type your answer here, replacing this text.`_ will be recorded. Any additional cell will not be graded.\n",
    "\n",
    "_Points:_ 0.2"
   ]
  },
  {
   "cell_type": "markdown",
   "id": "1246c6b0",
   "metadata": {},
   "source": [
    "3. $$\n",
    "\\begin{bmatrix}\n",
    "183 & 62 & 1 & 0 & 0 & 1 & 0 & 0 & 0 \\\\\n",
    "181 & 65 & 0 & 1 & 0 & 0 & 1 & 0 & 0 \\\\\n",
    "182 & 59 & 0 & 1 & 0 & 0 & 0 & 1 & 0 \\\\\n",
    "179 & 68 & 0 & 0 & 1 & 1 & 0 & 0 & 0 \\\\\n",
    "182 & 53 & 1 & 0 & 0 & 0 & 0 & 0 & 1 \\\\\n",
    "\\end{bmatrix}\n",
    "$$ \n",
    "<br />\n",
    "Each row vector represents one car specification from the dataset $S$. The categories <b>Make</b> and <b>Color</b> are represented with one hot encoding. <b>Make</b> is represented as 3 binary digits, the first one representing Toyota, the second BMW, and the third Ford. <b>Color</b> is represented as 4 binary digits, the first one representing Blue, the second Silver, the third Red, and the fourth Black. The columns are represented as such:\n",
    "<b> Length(in) - Height(in) - Toyota - BMW - Ford - Blue - Silver - Red - Black </b>"
   ]
  },
  {
   "cell_type": "markdown",
   "id": "61eb331c",
   "metadata": {},
   "source": [
    "<!-- END QUESTION -->\n",
    "\n",
    "## Question 4: Multiple Choice Question\n",
    "Select the correct option(s). Note that there might be multiple correct options.\n",
    "\n",
    "1. For two monotonically increasing functions $f(x)$ and $g(x)$:\n",
    "\n",
    "    A. $f(x)+g(x)$ is always monotonically increasing.  \n",
    "    B. $f(x)-g(x)$ is always monotonically increasing.  \n",
    "    C. $f(x^2)$ is always monotonically increasing.  \n",
    "    D. $f(x^3)$ is always monotonically increasing.  \n",
    "\n",
    "\n",
    "2. For a function $f(x) = x(10-x), x\\in\\mathbb{R}$, please choose the correct statement(s) below:\n",
    "\n",
    "    A. $\\arg\\max_{x} f(x) = 5$.  \n",
    "    B. $\\arg\\min_{x} f(x) = 25$.  \n",
    "    C. $\\min_{x} f(x) = 5$.  \n",
    "    D. $\\max_{x} f(x) = 25$.  \n",
    "\n",
    "\n",
    "3. Assume we have a function $f(x)$ which is differentiable at every $x\\in \\mathbb{R}$. There are three properties that describe the function $f(x)$:\n",
    "    (1) $f(x)$ is a convex function.\n",
    "    (2) When $x = x_{0}$, $f'(x_{0})=0$.\n",
    "    (3) $f(x_{0})$ is a global minimum of $f(x)$.\n",
    "    \n",
    "    Which one of the following statements is **wrong**?  \n",
    "    **Hint:** You can use a failure case to disprove a statement.\n",
    "    \n",
    "    A. Given (1) and (2), we can prove that (3) holds.  \n",
    "    B. Given (2) and (3), we can prove that (1) holds.  \n",
    "    C. Given (1) and (3), we can prove that (2) holds.  \n",
    "\n",
    "**Note:** The `grader.check()` only checks whether you have responded reasonably (Only the `A/B/C/D` answer). This check will not guarantee the correctness of your answer.\n",
    "\n",
    "_Points:_ 0.3"
   ]
  },
  {
   "cell_type": "code",
   "execution_count": 2,
   "id": "d1f48d43",
   "metadata": {
    "tags": []
   },
   "outputs": [],
   "source": [
    "q4_1 = []\n",
    "q4_1 = [\"A\",\"D\"]"
   ]
  },
  {
   "cell_type": "code",
   "execution_count": 3,
   "id": "f5edc9d7",
   "metadata": {
    "tags": []
   },
   "outputs": [],
   "source": [
    "q4_2 = []\n",
    "q4_2 = [\"A\",\"D\"]"
   ]
  },
  {
   "cell_type": "code",
   "execution_count": 4,
   "id": "570a59b9",
   "metadata": {
    "tags": []
   },
   "outputs": [],
   "source": [
    "q4_3 = []\n",
    "q4_3 = [\"B\"]"
   ]
  },
  {
   "cell_type": "code",
   "execution_count": 5,
   "id": "aa8df70c",
   "metadata": {
    "deletable": false,
    "editable": false
   },
   "outputs": [
    {
     "data": {
      "text/html": [
       "<p><strong><pre style='display: inline;'>conceptual</pre></strong> passed! ✨</p>"
      ],
      "text/plain": [
       "conceptual results: All test cases passed!"
      ]
     },
     "execution_count": 5,
     "metadata": {},
     "output_type": "execute_result"
    }
   ],
   "source": [
    "grader.check(\"conceptual\")"
   ]
  },
  {
   "cell_type": "markdown",
   "id": "91274601",
   "metadata": {},
   "source": [
    "<!-- BEGIN QUESTION -->\n",
    "\n",
    "## Question 5: Convexity\n",
    "\n",
    "Identify the convexity for the following six functions. Which functions are **convex**? Which are **non-convex**? Which are **strictly convex**? Simply write the letters for each function graph in your answer.\n",
    "\n",
    "![convexity](imgs/convexity.png)\n",
    "\n",
    "**Note:** Only the response in the cell of _`Type your answer here, replacing this text.`_ will be recorded. Any additional cell will not be graded.\n",
    "\n",
    "_Points:_ 0.3"
   ]
  },
  {
   "cell_type": "markdown",
   "id": "b11a1f4c",
   "metadata": {},
   "source": [
    "a. non-convex\n",
    "b. convex\n",
    "c. convex\n",
    "d. non-convex\n",
    "e. strictly convex\n",
    "f. non-convex"
   ]
  },
  {
   "cell_type": "markdown",
   "id": "6380f341",
   "metadata": {},
   "source": [
    "<!-- END QUESTION -->\n",
    "\n",
    "<!-- BEGIN QUESTION -->\n",
    "\n",
    "## Question 6: Basic Plots Using Matplotlib\n",
    "\n",
    "Matplotlib is a very useful library to plot graphs. Later in the course, you may need to plot your own graphs in your report such as: loss vs. iteration, accuracy vs. category. We will start with a simple exercise.\n",
    "\n",
    "This code creates a graph with the original sine curve and another curve where 5 iterations of Gaussian noise (0 mean, 0.1 standard deviation) are added to the original sine curve."
   ]
  },
  {
   "cell_type": "code",
   "execution_count": 6,
   "id": "46db6f82",
   "metadata": {
    "scrolled": false
   },
   "outputs": [
    {
     "data": {
      "image/png": "[encoded data removed]",
      "text/plain": [
       "<Figure size 640x480 with 1 Axes>"
      ]
     },
     "metadata": {},
     "output_type": "display_data"
    }
   ],
   "source": [
    "import numpy as np\n",
    "import matplotlib.pyplot as plt\n",
    "\n",
    "np.random.seed(0)\n",
    "space = np.linspace(0, 10, num = 50)\n",
    "sine = np.sin(space)\n",
    "sine_5 = sine\n",
    "\n",
    "for i in range(5):\n",
    "    sine_5 = sine_5 + np.random.normal(scale = 0.1, size = 50)\n",
    "    \n",
    "plt.scatter(space, sine, color = 'b', label = 'sine curve')\n",
    "plt.plot(space, sine_5, color = 'r', label = 'noise_5_iters')\n",
    "plt.legend(loc = 'upper right')\n",
    "plt.show()"
   ]
  },
  {
   "cell_type": "markdown",
   "id": "c8433895",
   "metadata": {},
   "source": [
    "In the cell below, copy the approach above but add two new curves to the plot. Each should have a different color to distinguish it from the other curves. The new curves will add 20 and 100 iterations of Gaussian noise (0 mean, 0.1 standard deviation) onto the original sine curve. Plot the two new curves you obtained as well as the curve from the original code. The legend should label the new curves as noise 20 iters and noise 100 iters. Report your code and the final plot: one figure with four differently colored curves (original, 5 iters, 20 iters, 100 iters).\n",
    "\n",
    "_Points:_ 0.4"
   ]
  },
  {
   "cell_type": "code",
   "execution_count": 7,
   "id": "ad59019e",
   "metadata": {
    "scrolled": false,
    "tags": []
   },
   "outputs": [
    {
     "data": {
      "image/png": "[encoded data removed]",
      "text/plain": [
       "<Figure size 640x480 with 1 Axes>"
      ]
     },
     "metadata": {},
     "output_type": "display_data"
    }
   ],
   "source": [
    "import numpy as np\n",
    "import matplotlib.pyplot as plt\n",
    "np.random.seed(0)\n",
    "space = np.linspace(0, 10, num = 50)\n",
    "sine = np.sin(space)\n",
    "sine_5 = sine\n",
    "sine_20 = sine\n",
    "sine_100 = sine\n",
    "\n",
    "for i in range(5):\n",
    "    sine_5 = sine_5 + np.random.normal(scale = 0.1, size = 50)\n",
    "for i in range(20):\n",
    "    sine_20 = sine_20 + np.random.normal(scale = 0.1, size = 50)\n",
    "for i in range(100):\n",
    "    sine_100 = sine_100 + np.random.normal(scale = 0.1, size = 50)\n",
    "    \n",
    "plt.scatter(space, sine, color = 'b', label = 'sine curve')\n",
    "plt.plot(space, sine_5, color = 'r', label = 'noise_5_iters')\n",
    "plt.plot(space, sine_20, color = 'm', label = 'noise_20_iters')\n",
    "plt.plot(space, sine_100, color = 'g', label = 'noise_100_iters')\n",
    "plt.legend(loc = 'upper right')\n",
    "plt.show()"
   ]
  },
  {
   "cell_type": "markdown",
   "id": "d3f6a418",
   "metadata": {},
   "source": [
    "<!-- END QUESTION -->\n",
    "\n",
    "## Question 7: Data Manipulation"
   ]
  },
  {
   "cell_type": "code",
   "execution_count": 8,
   "id": "1223af91",
   "metadata": {},
   "outputs": [],
   "source": [
    "import matplotlib.pyplot as plt\n",
    "from sklearn import datasets\n",
    "\n",
    "# Load Iris Dataset\n",
    "iris = datasets.load_iris()\n",
    "X = iris.data\n",
    "Y = iris.target"
   ]
  },
  {
   "cell_type": "markdown",
   "id": "1a73868f",
   "metadata": {},
   "source": [
    "Some useful instructions are shown below:\n",
    "\n",
    "- Get a row or a column of the array X"
   ]
  },
  {
   "cell_type": "code",
   "execution_count": 9,
   "id": "2a1b6597",
   "metadata": {},
   "outputs": [
    {
     "name": "stdout",
     "output_type": "stream",
     "text": [
      "[5.1 3.5 1.4 0.2]\n",
      "[5.1 4.9 4.7 4.6 5.  5.4 4.6 5.  4.4 4.9 5.4 4.8 4.8 4.3 5.8 5.7 5.4 5.1\n",
      " 5.7 5.1 5.4 5.1 4.6 5.1 4.8 5.  5.  5.2 5.2 4.7 4.8 5.4 5.2 5.5 4.9 5.\n",
      " 5.5 4.9 4.4 5.1 5.  4.5 4.4 5.  5.1 4.8 5.1 4.6 5.3 5.  7.  6.4 6.9 5.5\n",
      " 6.5 5.7 6.3 4.9 6.6 5.2 5.  5.9 6.  6.1 5.6 6.7 5.6 5.8 6.2 5.6 5.9 6.1\n",
      " 6.3 6.1 6.4 6.6 6.8 6.7 6.  5.7 5.5 5.5 5.8 6.  5.4 6.  6.7 6.3 5.6 5.5\n",
      " 5.5 6.1 5.8 5.  5.6 5.7 5.7 6.2 5.1 5.7 6.3 5.8 7.1 6.3 6.5 7.6 4.9 7.3\n",
      " 6.7 7.2 6.5 6.4 6.8 5.7 5.8 6.4 6.5 7.7 7.7 6.  6.9 5.6 7.7 6.3 6.7 7.2\n",
      " 6.2 6.1 6.4 7.2 7.4 7.9 6.4 6.3 6.1 7.7 6.3 6.4 6.  6.9 6.7 6.9 5.8 6.8\n",
      " 6.7 6.7 6.3 6.5 6.2 5.9]\n"
     ]
    }
   ],
   "source": [
    "print(X[0]) # Print the first row of array X.\n",
    "print(X[:, 0]) # Print the first column of array X.\n",
    "# ':' here means all rows and '0' means column 0."
   ]
  },
  {
   "cell_type": "markdown",
   "id": "50a8f8d9",
   "metadata": {},
   "source": [
    "- Get part of the array"
   ]
  },
  {
   "cell_type": "code",
   "execution_count": 10,
   "id": "f4ec0765",
   "metadata": {},
   "outputs": [
    {
     "name": "stdout",
     "output_type": "stream",
     "text": [
      "[[3.1 1.5]\n",
      " [3.6 1.4]]\n",
      "[[5.1 3.5]\n",
      " [4.9 3. ]\n",
      " [4.7 3.2]]\n"
     ]
    }
   ],
   "source": [
    "print(X[3:5, 1:3]) # Print 4th and 5th rows, 2nd and 3rd columns.\n",
    "print(X[:3, :2]) # Print first 3 rows, first 2 columns."
   ]
  },
  {
   "cell_type": "markdown",
   "id": "15593208",
   "metadata": {},
   "source": [
    "### Question 7.1 \n",
    "Show the first 2 features of the first 5 data points (i.e. first 2 columns and first 5 rows) of array X. (You can print the 5×2 array).\n",
    "\n",
    "_Points:_ 0.1"
   ]
  },
  {
   "cell_type": "code",
   "execution_count": 11,
   "id": "db74ce48",
   "metadata": {
    "tags": []
   },
   "outputs": [],
   "source": [
    "def q1(array):\n",
    "    array = X[:5, :2]\n",
    "    print(array)\n",
    "    return array"
   ]
  },
  {
   "cell_type": "markdown",
   "id": "e68a6663",
   "metadata": {},
   "source": [
    "### Question 7.2\n",
    "Calculate the mean and the variance of the 2nd feature (the 2nd column) of array X.\n",
    "\n",
    "_Points:_ 0.1"
   ]
  },
  {
   "cell_type": "code",
   "execution_count": 12,
   "id": "507e40d3",
   "metadata": {
    "tags": []
   },
   "outputs": [],
   "source": [
    "def q2(array):\n",
    "    array = X[:, 1]\n",
    "    mean = np.mean(array)\n",
    "    var = np.var(array)\n",
    "    print (mean, var)\n",
    "    return mean, var"
   ]
  },
  {
   "cell_type": "markdown",
   "id": "b9c9fbc5",
   "metadata": {},
   "source": [
    "### Question 7.3\n",
    " Perform a linear projection on the 1st 3 features of all data points using the weight vector $\\mathbf w$, where $\\mathbf w = (3, 2, 1)$. You can do so by calculating a dot product between the 1st 3 features of all data points and the weight vector $\\mathbf w$. The shape of projected data points should be (150, 1) or (150,), depending on the weight vector is regarded as a matrix or a vector. Calculate the mean of the projected data points.\n",
    " \n",
    " Hint: You can calculate the projection with a single line code using np.dot, but you should be careful with the dimension matching for the dot product.\n",
    "\n",
    "_Points:_ 0.1"
   ]
  },
  {
   "cell_type": "code",
   "execution_count": 13,
   "id": "29ca42da",
   "metadata": {},
   "outputs": [],
   "source": [
    "w = np.array([3,2,1])"
   ]
  },
  {
   "cell_type": "code",
   "execution_count": 14,
   "id": "a4ed61d3",
   "metadata": {
    "tags": []
   },
   "outputs": [],
   "source": [
    "def q3(array, projection_vector):\n",
    "    array = X[:, :3]\n",
    "    new_vector = np.dot(array, projection_vector)\n",
    "    mean = np.mean(new_vector)\n",
    "    print(mean)\n",
    "    return mean"
   ]
  },
  {
   "cell_type": "markdown",
   "id": "cc330177",
   "metadata": {},
   "source": [
    " ### Question 7.4\n",
    " Randomly sample 3 data points (rows) of array X by randomly choosing the row indices. Show the indices and the sampled data points.\n",
    "\n",
    "Hint: np.random.randint\n",
    "\n",
    "_Points:_ 0.1"
   ]
  },
  {
   "cell_type": "code",
   "execution_count": 15,
   "id": "d48b625d",
   "metadata": {
    "tags": []
   },
   "outputs": [],
   "source": [
    "def q4(array):\n",
    "    array1 = X[np.random.randint(150)]\n",
    "    array2 = X[np.random.randint(150)]\n",
    "    array3 = X[np.random.randint(150)]\n",
    "    matrix = np.array([array1, array2, array3])\n",
    "    print(matrix)\n",
    "    return matrix"
   ]
  },
  {
   "cell_type": "markdown",
   "id": "c8844e1a",
   "metadata": {},
   "source": [
    "### Question 7.5\n",
    "Add one more feature (one more column) to the array X after the last feature. The values of the added feature for all data points are constant 1. Show the first data point (first row) of the new array.\n",
    "\n",
    "Hint: np.ones, np.hstack\n",
    "\n",
    "_Points:_ 0.1"
   ]
  },
  {
   "cell_type": "code",
   "execution_count": 16,
   "id": "f35ae914",
   "metadata": {
    "tags": []
   },
   "outputs": [],
   "source": [
    "def q5(array):\n",
    "    array = np.hstack([X, np.ones([X.shape[0], 1])])\n",
    "    row = array[0]\n",
    "    print(row)\n",
    "    return row"
   ]
  },
  {
   "cell_type": "markdown",
   "id": "49d8a02a",
   "metadata": {},
   "source": [
    "### Question 7.6\n",
    "Add one more data point (one more row) to the array X after the last data point. The value of the added data point is the same as the first data point. Show the first feature (first column) of the new array.\n",
    "\n",
    "Hint: `np.vstack`\n",
    "\n",
    "_Points:_ 0.1"
   ]
  },
  {
   "cell_type": "code",
   "execution_count": 17,
   "id": "16efef2e",
   "metadata": {
    "tags": []
   },
   "outputs": [],
   "source": [
    "def q6(array):\n",
    "    array = np.vstack([X, np.ones([X.shape[1]])])\n",
    "    matrix = array[:, 0]\n",
    "    print(matrix)\n",
    "    return matrix"
   ]
  },
  {
   "cell_type": "markdown",
   "id": "6263bcbd",
   "metadata": {},
   "source": [
    "# End of A1"
   ]
  },
  {
   "cell_type": "markdown",
   "id": "a06732ab",
   "metadata": {
    "deletable": false,
    "editable": false
   },
   "source": [
    "## Submission\n",
    "\n",
    "Make sure you have run all cells in your notebook in order before running the cell below, so that all images/graphs appear in the output. The cell below will generate a zip file for you to submit.\n",
    "\n",
    "Please make sure to see the output of the gradescope autograder. You are responsible for waiting and ensuring that the autograder is executing normally for your submission. Please create a campuswire post if you see errors in autograder execution. Only the images in the directory `imgs` will be zipped and submit to gradescope."
   ]
  },
  {
   "cell_type": "code",
   "execution_count": null,
   "id": "25ab9d41",
   "metadata": {
    "deletable": false,
    "editable": false
   },
   "outputs": [],
   "source": [
    "grader.export(pdf=False, force_save=True, run_tests=True, files=['imgs'])"
   ]
  },
  {
   "cell_type": "markdown",
   "id": "615f63a1",
   "metadata": {},
   "source": [
    " "
   ]
  }
 ],
 "metadata": {
  "celltoolbar": "Raw Cell Format",
  "kernelspec": {
   "display_name": "Python 3 (ipykernel)",
   "language": "python",
   "name": "python3"
  },
  "language_info": {
   "codemirror_mode": {
    "name": "ipython",
    "version": 3
   },
   "file_extension": ".py",
   "mimetype": "text/x-python",
   "name": "python",
   "nbconvert_exporter": "python",
   "pygments_lexer": "ipython3",
   "version": "3.9.16"
  },
  "otter": {
   "OK_FORMAT": true,
   "tests": {
    "conceptual": {
     "name": "conceptual",
     "points": 0.3,
     "suites": [
      {
       "cases": [
        {
         "code": ">>> # sanity check\n>>> all_options = [\"A\", \"B\", \"C\", \"D\"]\n>>> check_valid = lambda ans, all_options: all([chosen in all_options for chosen in ans])\n>>> assert check_valid(q4_1, all_options), \"Is your answer within the option of A/B/C/D?\"\n>>> assert check_valid(q4_2, all_options), \"Is your answer within the option of A/B/C/D?\"\n>>> assert check_valid(q4_3, all_options), \"Is your answer within the option of A/B/C/D?\"\n",
         "hidden": false,
         "locked": false
        }
       ],
       "scored": true,
       "setup": "",
       "teardown": "",
       "type": "doctest"
      }
     ]
    },
    "data manipulation1": {
     "name": "data manipulation1",
     "points": 0.1,
     "suites": [
      {
       "cases": [],
       "scored": true,
       "setup": "",
       "teardown": "",
       "type": "doctest"
      }
     ]
    },
    "data manipulation2": {
     "name": "data manipulation2",
     "points": 0.1,
     "suites": [
      {
       "cases": [],
       "scored": true,
       "setup": "",
       "teardown": "",
       "type": "doctest"
      }
     ]
    },
    "data manipulation3": {
     "name": "data manipulation3",
     "points": 0.1,
     "suites": [
      {
       "cases": [],
       "scored": true,
       "setup": "",
       "teardown": "",
       "type": "doctest"
      }
     ]
    },
    "data manipulation4": {
     "name": "data manipulation4",
     "points": 0.1,
     "suites": [
      {
       "cases": [],
       "scored": true,
       "setup": "",
       "teardown": "",
       "type": "doctest"
      }
     ]
    },
    "data manipulation5": {
     "name": "data manipulation5",
     "points": 0.1,
     "suites": [
      {
       "cases": [],
       "scored": true,
       "setup": "",
       "teardown": "",
       "type": "doctest"
      }
     ]
    },
    "data manipulation6": {
     "name": "data manipulation6",
     "points": 0.1,
     "suites": [
      {
       "cases": [],
       "scored": true,
       "setup": "",
       "teardown": "",
       "type": "doctest"
      }
     ]
    }
   }
  }
 },
 "nbformat": 4,
 "nbformat_minor": 5
}
