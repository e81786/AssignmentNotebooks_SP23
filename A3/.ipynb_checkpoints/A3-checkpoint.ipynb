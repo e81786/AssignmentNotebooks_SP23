{
 "cells": [
  {
   "cell_type": "code",
   "execution_count": 1,
   "id": "fb6eba94",
   "metadata": {
    "deletable": false,
    "editable": false
   },
   "outputs": [],
   "source": [
    "# Initialize Otter\n",
    "import otter\n",
    "grader = otter.Notebook(\"A3.ipynb\")"
   ]
  },
  {
   "cell_type": "markdown",
   "id": "33f06207",
   "metadata": {
    "nbgrader": {
     "grade": false,
     "grade_id": "cell-68f2f0ed9883b594",
     "locked": true,
     "schema_version": 3,
     "solution": false,
     "task": false
    }
   },
   "source": [
    "# Assignment 3\n",
    "\n",
    "\n",
    "## **Due: April 29th (Saturday), 2023, 8:00pm (PT)**\n",
    "\n",
    "### **Instructions:**\n",
    "\n",
    "Your Jupyter notebook assignment will often have 3 elements: written answers, code answers, and quiz answers. For written answers, you may insert images of your handwritten work in code cells, or write your answers in markdown and LaTeX. For quiz answers, your `record.txt` file will record your answer choices in the quiz modules for submission. Both your quiz answers and code answers will be autograded on Gradescope. This assignment does not have the quiz portion.\n",
    "\n",
    "For all elements, DO NOT MODIFY THE CELLS. Put your answers **only** in the answer cells given, and **do not delete cells**. If you fail to follow these instructions, you will lose points on your submission.\n",
    "\n",
    "Make sure to show the steps of your solution for every question to receive credit, not just the final answer. You may search information online but you will need to write code/find solutions to answer the questions yourself. You will submit your .ipynb file and record.txt to gradescope when you are finished.\n",
    "\n",
    "### **Late Policy:**\n",
    "\n",
    "Late assignments will be accepted at 75% credit up to one week late. Consult the syllabus for more info on the late policy.\n",
    "\n",
    "### How to Include Your Math Written Answer?\n",
    "\n",
    "You could use inline $\\LaTeX$ in markdown (recommended) or use markdowns' include image functionality to submit your written responses.\n",
    "\n",
    "#### $\\LaTeX$ (recommended)\n",
    "[Here is a fantastic tutorial from CalTech about using $\\LaTeX$ in Jupyter Notebook.](http://chebe163.caltech.edu/2018w/handouts/intro_to_latex.html). You could also find various $\\LaTeX$ tutorials and cheat sheets online.\n",
    "\n",
    "#### Include Images\n",
    "If you are still getting familiar with using LaTeX, handwrite the response on paper or the stylus. Take a picture or screenshot of your answer, and include that image in the Jupyter Notebook. Be sure to include that image in the `\\imgs` directory. Let's say you have your Q1 response saved as `imgs/Q1.png`; the markdown syntax to include that image is `![Q1](imgs/Q1.png)`. \n",
    "\n",
    "## Important Notice\n",
    "\n",
    "You must check both submission output on the gradescope (`Assignment 3` and `Assignment 3 - Manual Grading`) correctly reflects your work and responses. If you notice inconsistencies between your notebook and the Manual Grading portion, you need to make a campuswire post, and we can help you with that.\n",
    "\n",
    "**Other**\n",
    "\n",
    "If you are not feeling comfortable with the programming assignments in this homework, it might help to take a look at [https://github.com/UCSD-COGS108/Tutorials](https://github.com/UCSD-COGS108/Tutorials)."
   ]
  },
  {
   "cell_type": "code",
   "execution_count": 2,
   "id": "77a44005",
   "metadata": {},
   "outputs": [],
   "source": [
    "%load_ext autoreload\n",
    "%autoreload 2\n",
    "\n",
    "# Run me\n",
    "#!pip uninstall -y otter-grader\n",
    "#!pip install -q  git+https://github.com/scott-yj-yang/otter-grader.git --no-warn-script-location"
   ]
  },
  {
   "cell_type": "markdown",
   "id": "a3cba8e9",
   "metadata": {},
   "source": [
    "# Question 1: Conceptual Questions\n",
    "\n",
    "Multiple Choice Section\n",
    "\n",
    "Write your solution as a list of strings by replacing the \"...\" \n",
    "\n",
    "Ex.: `[\"A\", \"C\"]` if you think the answers are A and C). "
   ]
  },
  {
   "cell_type": "markdown",
   "id": "0eb65f8c",
   "metadata": {},
   "source": [
    "## 1. Linear regression\n",
    "\n",
    "Choose <b>all</b> the valid answers to the description about <b>linear regression</b> and <b>logistic regression</b> from the options below:\n",
    "\n",
    "A. A linear regression model is linear (i.e., the features are combined linearly), while a logistic regression model is non-linear because its decision boundary is not a straight line.\n",
    "\n",
    "B. Both linear regression and logistic regression involve minimizing some 'loss'.\n",
    "\n",
    "C. Linear regression can only be solved by using closed-form solution while logistic regression does not have a closed-form solution.\n",
    "\n",
    "D. The output of a linear regression predictor can be any real value, while a logistic regression predictor can only give binary outputs (i.e. either -1 or +1) and it can never estimate the probability of an instance being a positive or negative case. \n",
    "\n",
    "_Points:_ 0.2"
   ]
  },
  {
   "cell_type": "code",
   "execution_count": 3,
   "id": "bb8b2202",
   "metadata": {
    "tags": []
   },
   "outputs": [],
   "source": [
    "q1_1 = [\"B\",\"C\"]"
   ]
  },
  {
   "cell_type": "code",
   "execution_count": 4,
   "id": "d634e624",
   "metadata": {
    "deletable": false,
    "editable": false
   },
   "outputs": [
    {
     "data": {
      "text/html": [
       "<p><strong><pre style='display: inline;'>MCQ_LR_1</pre></strong> passed! 🌈</p>"
      ],
      "text/plain": [
       "MCQ_LR_1 results: All test cases passed!"
      ]
     },
     "execution_count": 4,
     "metadata": {},
     "output_type": "execute_result"
    }
   ],
   "source": [
    "grader.check(\"MCQ_LR_1\")"
   ]
  },
  {
   "cell_type": "markdown",
   "id": "65bf8135",
   "metadata": {},
   "source": [
    "## 2. Gradient Descent\n",
    "\n",
    "Choose <b>all</b> the valid answers to the description about <b>gradient descent</b> from the options below:\n",
    "\n",
    "A. The general gradient descent method does not guarantee that the global minimum can always be reached, but there exists an algorithm that can always find the suitable learning-rate/step-size so that the global minimum can be reached after finite number of iterations.\n",
    "\n",
    "B. Loss is always decreased as long as we are moving in the opposite direction of its gradient at each step, while the step-size does not matter.\n",
    "\n",
    "C. With same initial weights and same training dataset, the algorithm should either reach the global minumum or end up at the same local minimum; the order in which data is fed does not matter.\n",
    "\n",
    "D. When the learning rate is high, though training may be faster, learning may 'jump' back and forth over the minima, thus make it even more difficult to find the optimal solution.\n",
    "\n",
    "_Points:_ 0.2"
   ]
  },
  {
   "cell_type": "code",
   "execution_count": 5,
   "id": "11caa548",
   "metadata": {
    "tags": []
   },
   "outputs": [],
   "source": [
    "q1_2 = [\"A\", \"D\"]"
   ]
  },
  {
   "cell_type": "code",
   "execution_count": 6,
   "id": "76ad059e",
   "metadata": {
    "deletable": false,
    "editable": false
   },
   "outputs": [
    {
     "data": {
      "text/html": [
       "<p><strong><pre style='display: inline;'>MCQ_LR_2</pre></strong> passed! 🍀</p>"
      ],
      "text/plain": [
       "MCQ_LR_2 results: All test cases passed!"
      ]
     },
     "execution_count": 6,
     "metadata": {},
     "output_type": "execute_result"
    }
   ],
   "source": [
    "grader.check(\"MCQ_LR_2\")"
   ]
  },
  {
   "cell_type": "markdown",
   "id": "87f0901e",
   "metadata": {},
   "source": [
    "## 3. Classification\n",
    "\n",
    "Choose the <b>most significant</b> difference between regression and classification:\n",
    "\n",
    "A. Classification can handle categorical variables directly but regression can’t.\n",
    "\n",
    "B. Classification is supervised machine learning algorithm but regression is unsupervised machine learning algorithm.\n",
    "\n",
    "C. Classification's output is bounded (between -1 and 1) while regression can output value less than -1 or greater than 1.\n",
    "\n",
    "D. Classification aims to output discrete values (or categories) but regression aims to output continuous values (or numerical values).\n",
    "\n",
    "_Points:_ 0.2"
   ]
  },
  {
   "cell_type": "code",
   "execution_count": 7,
   "id": "9bdf488d",
   "metadata": {
    "tags": []
   },
   "outputs": [],
   "source": [
    "q1_3 = [\"D\"]"
   ]
  },
  {
   "cell_type": "code",
   "execution_count": 8,
   "id": "c5839ed2",
   "metadata": {
    "deletable": false,
    "editable": false
   },
   "outputs": [
    {
     "data": {
      "text/html": [
       "<p><strong><pre style='display: inline;'>MCQ_LR_3</pre></strong> passed! 🚀</p>"
      ],
      "text/plain": [
       "MCQ_LR_3 results: All test cases passed!"
      ]
     },
     "execution_count": 8,
     "metadata": {},
     "output_type": "execute_result"
    }
   ],
   "source": [
    "grader.check(\"MCQ_LR_3\")"
   ]
  },
  {
   "cell_type": "markdown",
   "id": "3ea6e74e",
   "metadata": {},
   "source": [
    "## 4. Classification (example)\n",
    "\n",
    "Assume we have a binary classification model:\n",
    "\n",
    "\\begin{align*}\n",
    "f(\\mathbf{x})&=\n",
    "\\begin{cases}\n",
    " 1, & w \\cdot x + b \\ge 0, \\\\\n",
    "-1, & w \\cdot x + b < 0. \n",
    "\\end{cases}\n",
    "\\end{align*}\n",
    "\n",
    "where there’s a feature vector $x = (x_1, x_2) \\in R^2$, bias $b \\in R$, and a weight vector $w = (w_1, w_2) \\in R^2$. The decision boundary of the classification model is: \n",
    "\n",
    "\\begin{align*}\n",
    " w \\cdot x + b = 0\n",
    "\\end{align*}\n",
    "\n",
    "Part 1)  If the predictions of the classifier f and its decision boundary $w \\cdot x + b = 0$ are shown in Figure 1, which one below can be a possible solution of weight vector $w$ and bias $b$? \n",
    "\n",
    "A. $w = (+1, +1); b = 0$\n",
    "\n",
    "B. $w = (+1, -1); b = 0$\n",
    "\n",
    "C. $w = (-1, -1); b = 0$\n",
    "\n",
    "D. $w = (-1, +1); b = 0$\n",
    "\n",
    "![Q1_reg_1](imgs/Q1_reg_1.png)\n",
    "\n",
    "_Points:_ 0.2"
   ]
  },
  {
   "cell_type": "code",
   "execution_count": 9,
   "id": "60f636a8",
   "metadata": {
    "tags": []
   },
   "outputs": [],
   "source": [
    "q1_4_1 = [\"A\"]"
   ]
  },
  {
   "cell_type": "code",
   "execution_count": 10,
   "id": "5cc9fb4c",
   "metadata": {
    "deletable": false,
    "editable": false
   },
   "outputs": [
    {
     "data": {
      "text/html": [
       "<p><strong><pre style='display: inline;'>MCQ_LR_4_1</pre></strong> passed! 🌈</p>"
      ],
      "text/plain": [
       "MCQ_LR_4_1 results: All test cases passed!"
      ]
     },
     "execution_count": 10,
     "metadata": {},
     "output_type": "execute_result"
    }
   ],
   "source": [
    "grader.check(\"MCQ_LR_4_1\")"
   ]
  },
  {
   "cell_type": "markdown",
   "id": "d1addcc9",
   "metadata": {},
   "source": [
    "Part 2)  If the predictions of the classifier f and its decision boundary $w \\cdot x + b = 0$ are shown in Figure 2, which one below can be a possible solution of weight vector $w$ and bias $b$? \n",
    "\n",
    "A. $w = (-1, +1); b = +1$\n",
    "\n",
    "B. $w = (-1, +1); b = -1$\n",
    "\n",
    "C. $w = (+1, -1); b = +1$\n",
    "\n",
    "D. $w = (+1, -1); b = -1$\n",
    "\n",
    "![Q1_reg_2](imgs/Q1_reg_2.png)\n",
    "\n",
    "_Points:_ 0.2"
   ]
  },
  {
   "cell_type": "code",
   "execution_count": 11,
   "id": "5655c529",
   "metadata": {
    "tags": []
   },
   "outputs": [],
   "source": [
    "q1_4_2 = [\"D\"]"
   ]
  },
  {
   "cell_type": "code",
   "execution_count": 12,
   "id": "bf2e429e",
   "metadata": {
    "deletable": false,
    "editable": false
   },
   "outputs": [
    {
     "data": {
      "text/html": [
       "<p><strong><pre style='display: inline;'>MCQ_LR_4_2</pre></strong> passed! ✨</p>"
      ],
      "text/plain": [
       "MCQ_LR_4_2 results: All test cases passed!"
      ]
     },
     "execution_count": 12,
     "metadata": {},
     "output_type": "execute_result"
    }
   ],
   "source": [
    "grader.check(\"MCQ_LR_4_2\")"
   ]
  },
  {
   "cell_type": "markdown",
   "id": "7ea7cc74",
   "metadata": {},
   "source": [
    "\n",
    "# Question 2: Logistic Regression Inference\n",
    "\n",
    "We have a logistic regression classifier for a 2-dimensional feature vector $\\mathbf{x}=(x_1,x_2)$:\n",
    "\\begin{align*}\n",
    "f(\\mathbf{x})&=\n",
    "\\begin{cases}\n",
    " 1, & \\frac{1}{1+e^{-(3x_1-4x_2+5)}} \\geq 0.5, \\\\\n",
    "-1, & \\text{otherwise}. \n",
    "\\end{cases}\n",
    "\\end{align*}\n",
    "\n",
    "where $f(\\mathbf{x})\\in \\{-1,1\\}$ is the predicted label. Please solve the following problems. "
   ]
  },
  {
   "cell_type": "markdown",
   "id": "d67a922c",
   "metadata": {},
   "source": [
    "<!-- BEGIN QUESTION -->\n",
    "\n",
    "## Question 2.1\n",
    "Draw the decision boundary of the logistic regression classifier and shade the region where the classifier predicts 1. Make sure you have marked the $x_1$ and $x_2$ axes and the intercepts on those axes.\n",
    "\n",
    "_Points:_ 0.3"
   ]
  },
  {
   "cell_type": "code",
   "execution_count": 13,
   "id": "54ff2d8a",
   "metadata": {
    "tags": []
   },
   "outputs": [
    {
     "data": {
      "image/png": "[encoded data removed]",
      "text/plain": [
       "<Figure size 640x480 with 1 Axes>"
      ]
     },
     "metadata": {},
     "output_type": "display_data"
    }
   ],
   "source": [
    "import numpy as np\n",
    "import matplotlib.pyplot as plt\n",
    "\n",
    "# the x1 and x2 of points on the decision boundary\n",
    "boundary_x1s = np.linspace(-2, 2, 20)\n",
    "# STEP 1\n",
    "boundary_x2s = np.linspace(-0.25, 11/4, 20)\n",
    "\n",
    "# plot the boundary\n",
    "plt.plot(boundary_x1s, boundary_x2s)\n",
    "plt.xlim([-2.2, 2.2])\n",
    "plt.ylim([-2.2, 2.2])\n",
    "plt.annotate('x1', [2, 0.2], weight='bold')\n",
    "plt.annotate('x2', [0.2, 2], weight='bold')\n",
    "\n",
    "# generate some random data points\n",
    "np.random.seed(0)\n",
    "N_samples = 60\n",
    "sample_x1s = np.random.rand(N_samples) * 4 - 2 \n",
    "sample_x2s = np.random.rand(N_samples) * 4 - 2\n",
    "\n",
    "# predict the labels (1 or -1) of the samples\n",
    "# STEP 2\n",
    "logit = np.exp(-(3*sample_x1s-4*sample_x2s+5))\n",
    "# STEP 3\n",
    "probabilities = 1/(1+logit)\n",
    "positive = probabilities >= 0.5\n",
    "negative = probabilities < 0.5\n",
    "\n",
    "# plot the samples\n",
    "plt.scatter(sample_x1s[positive], sample_x2s[positive], color=\"g\", marker=\"+\", label='positive')\n",
    "plt.scatter(sample_x1s[negative], sample_x2s[negative], color=\"r\", marker=\"_\", label='negative')\n",
    "plt.legend(bbox_to_anchor=(1.05, 1.0), loc='upper left')\n",
    "\n",
    "ax = plt.gca()\n",
    "ax.spines['top'].set_color('none')\n",
    "ax.spines['bottom'].set_position('zero')\n",
    "ax.spines['left'].set_position('zero')\n",
    "ax.spines['right'].set_color('none')\n",
    "ax.set_xticks( [-2, -1, 0, 1, 2])\n",
    "ax.set_yticks( [-2, -1, 1, 2])\n",
    "ax.set_aspect(1)"
   ]
  },
  {
   "cell_type": "markdown",
   "id": "4a63e882",
   "metadata": {},
   "source": [
    "<!-- END QUESTION -->\n",
    "\n",
    "<!-- BEGIN QUESTION -->\n",
    "\n",
    "## Question 2.2\n",
    "\n",
    "Solve this problem using handwritten / LaTeX math.\n",
    "For the new data point $\\mathbf{x}_1=(3,4)$:\n",
    "\n",
    "(1) Predict its label;\n",
    "\n",
    "(2) Give the estimated probability of it being a <b>negative</b> sample (round your answer to 0.01);\n",
    "\n",
    "(3) Compute its distance to the decision boundary.\n",
    "\n",
    "_Points:_ 0.3"
   ]
  },
  {
   "cell_type": "markdown",
   "id": "d58b78f9",
   "metadata": {},
   "source": [
    "1. $$ \\begin{aligned} e^{(-(3x_1-4x_2+5))} &= \\\\ e^{(-(3(3)-4(4)+5))} &= \\\\ e^{2} &= 7.389 \\end{aligned}$$\n",
    "<br />\n",
    "\n",
    "2. $$ \\begin{aligned} 1/(1+7.389) < 0.5 \\\\  1/8.389 < 0.5 \\\\ 0.2384 \\approx 0.24 \\end{aligned} $$ \n",
    "<br />\n",
    "\n",
    "3. $$ \\begin{aligned} w &= \\begin{bmatrix} - \\frac{1}{\\sqrt{0.75^2 + 1^2}} \\\\ \\frac{1}{\\sqrt{0.75^2 + 1^2}} \\end{bmatrix} \\\\ w &= \\begin{bmatrix} - \\frac{1}{\\sqrt{1.5625}} \\\\ \\frac{1}{\\sqrt{1.5625}} \\end{bmatrix} \\\\ w^T &= \\begin{bmatrix} - \\frac{1}{\\sqrt{1.5625}} \\frac{1}{\\sqrt{1.5625}} \\end{bmatrix} \\\\\n",
    "w^Tx &= \\begin{bmatrix} - \\frac{1}{\\sqrt{1.5625}} \\frac{1}{\\sqrt{1.5625}} \\end{bmatrix} * \\begin{bmatrix} 3 \\\\ 4 \\end{bmatrix} \\\\ w^Tx &= 0.8\n",
    "\\end{aligned}$$ "
   ]
  },
  {
   "cell_type": "markdown",
   "id": "aeac6514",
   "metadata": {},
   "source": [
    "<!-- END QUESTION -->\n",
    "\n",
    "# Question 3. Logistic Regression\n",
    "\n",
    "Assume in a binary classification problem, we need to predict a binary label $y\\in \\{-1,1\\}$ for a feature vector $x=[x_0,x_1]^\\top$. In logistic regression, we can reformulate the binary classification problem in a probabilistic framework: We aim to model the distribution of classes given the input feature vector $x$. Specifically, we can express the conditional probability $p(y|x)$ parameterized by $(\\mathbf w, b)$ using logistic function as:\n",
    "\\begin{align*}\n",
    "\\label{eq:logistic-regression-model}\n",
    "p(y|x)=\\frac{1}{1+e^{-y(\\mathbf w \\cdot x + b)}}\n",
    "\\end{align*}\n",
    "\n",
    "where $\\mathbf{w}=[w_0,w_1]^\\top$ is the weight vector, and $b$ is the bias scalar. Given a training dataset $S_\\text{training} = \\{(x_i, y_i)\\}, i=1,\\ldots,n\\}$, we wish to optimize the negative log-likelihood loss $\\mathcal{L}(\\mathbf w, b)$:\n",
    "\n",
    "$$ \\mathcal{L}(\\mathbf w, b)=-\\sum_{i=1}^{n} \\ln p(y_i|x_i) $$\n",
    "\n",
    "and find the optimal weight vector $\\mathbf{w}$ and bias $b$ to build the logistic regression model:\n",
    "$$ \\mathbf{w}^*, b^* = \\arg\\min_{\\mathbf{w}, b}\\mathcal{L}(\\mathbf{w}, b) $$"
   ]
  },
  {
   "cell_type": "markdown",
   "id": "8611a39a",
   "metadata": {},
   "source": [
    "<!-- BEGIN QUESTION -->\n",
    "\n",
    "## Question 3.1\n",
    "In this problem, we attempt to obtain the optimal parameters $\\mathbf{w}^*$ and $b^*$ by using a standard gradient descent algorithm. Assume $p_i = p(y_i|x_i)$, solve for the gradient for $\\mathbf w$ and the gradient for b.\n",
    "\n",
    "_Points:_ 0.3"
   ]
  },
  {
   "cell_type": "markdown",
   "id": "9b2dfcbf",
   "metadata": {},
   "source": [
    "$$ \\begin{aligned} \\Delta \\mathbf{w} &= \\sum_{i=1}^{n} -y_i x_i (1 - p_i) \\\\ \\Delta b &= \\sum_{i=1}^{n} -y_i (1 - p_i) \\end{aligned}$$"
   ]
  },
  {
   "cell_type": "markdown",
   "id": "d3f19532",
   "metadata": {},
   "source": [
    "<!-- END QUESTION -->\n",
    "\n",
    "<!-- BEGIN QUESTION -->\n",
    "\n",
    "## Question 3.2\n",
    "In reality, we typically tackle this problem in a matrix form: First, we represent data points as matrices $X=[\\mathbf{x}_1, \\mathbf{x}_2, \\ldots, \\mathbf{x}_n]^T$ and $Y=[y_1, y_2, \\ldots, y_n]^T$. Thus, the negative log-likelihood loss $\\mathcal{L}(\\mathbf{w},b)$ can be formulated as:\n",
    "\n",
    "\\begin{align*}\n",
    "\\mathbf{p} = \\text{sigmoid}(Y \\circ (X\\mathbf{w} + b\\mathbf{1})),  \\quad\\quad \\mathcal{L}(\\mathbf w, b)=-\\mathbf{1}^T \\ln \\mathbf{p}\n",
    "\\end{align*}\n",
    "\n",
    "where $\\mathbf{1} = [1,1,...,1]^T \\in \\mathbb{R}^n$ is a $n$-dimensional column vector, $\\mathbf{p} = [p_1,p_2,...,p_n]^T \\in \\mathbb{R}^n$ is a $n$-dimensional column vector, $\\ln(\\cdot)$ is an element-wise natural logarithm function, $\\text{sigmoid}(z) = \\frac{1}{1 + e^{-z}}$ is an element-wise sigmoid function, and $\\circ$ is an element-wise product operator. Use this new information to reformulate the gradients for w and b in matrix form.\n",
    "\n",
    "_Points:_ 0.3"
   ]
  },
  {
   "cell_type": "markdown",
   "id": "140f2363",
   "metadata": {},
   "source": [
    "$$ \\begin{aligned} \\Delta \\mathbf{w} &= -X^T (Y*(1 - p_i)) \\\\ \\Delta b &= -1^T (Y*(1 - p_i)) \\end{aligned}$$"
   ]
  },
  {
   "cell_type": "markdown",
   "id": "0e023f2e",
   "metadata": {},
   "source": [
    "<!-- END QUESTION -->\n",
    "\n",
    "# Question 4. Decision Tree\n",
    "\n",
    "As we recall, the underlying uncertainty of a variable is measured by entropy\n",
    "\n",
    "\\begin{align*}\n",
    "H(X) = -\\sum_iP(X=x_i)\\log_2(P(X=x_i))\n",
    "\\end{align*}\n",
    "\n",
    "When building a tree, one way to decide how to group the values is with the following formula:\n",
    "\n",
    "\\begin{align*}\n",
    "\\arg \\max _B G(S, B)=H(S)-\\sum_{i=1}^t \\frac{\\left|S_i\\right|}{|S|} H\\left(S_i\\right)\n",
    "\\end{align*}\n",
    "\n",
    "where S is the state of the variable of interest, B represents the split that we choose. The larger the value we get the better fit that tree that we made."
   ]
  },
  {
   "cell_type": "markdown",
   "id": "d2261520",
   "metadata": {},
   "source": [
    "You are conducting an fMRI study and discover that when the subject is performing a certain task, some areas in brain are more activated while others are more inhibited. For this experiment, voxels sampled from the region of interest are labeled as either 'excitatory' (green circle) or 'inhibitory' (red triangle). Now you wonder whether we can predict task-induced activation based on certain features of a region, and you hypothesize that feature A and feature B are the most relevant. \n",
    "\n",
    "![Q4_DT](imgs/Q4_DT.png)"
   ]
  },
  {
   "cell_type": "markdown",
   "id": "945af075",
   "metadata": {},
   "source": [
    "<!-- BEGIN QUESTION -->\n",
    "\n",
    "## Question 4.1 \n",
    "Use the formula to calculate the entropy of activation (i.e. excitation or inhibition) in the region of interest. Show your work. Round your answer to 3 decimal places (0.001).\n",
    "\n",
    "_Points:_ 0.2"
   ]
  },
  {
   "cell_type": "markdown",
   "id": "38f4a9e5",
   "metadata": {},
   "source": [
    "$$ \\begin{aligned}\n",
    "H(X) &= -\\sum_{i} P(X=x_i)\\log_2(P(X=x_i)) \\\\\n",
    "H(X) &= - ((\\frac{4}{9}) * \\log_2(\\frac{4}{9}) +  (\\frac{5}{9}) * \\log_2(\\frac{5}{9})) \\\\\n",
    "H(X) &= - (-0.51996 + -0.47110) \\\\ \n",
    "H(X) &= 0.991\n",
    "\\end{aligned} $$"
   ]
  },
  {
   "cell_type": "markdown",
   "id": "d84f2cd7",
   "metadata": {},
   "source": [
    "<!-- END QUESTION -->\n",
    "\n",
    "<!-- BEGIN QUESTION -->\n",
    "\n",
    "## Question 4.2\n",
    "Now we want to determine whether a region is excitatory or inhibitory based on feature A, i.e. a region is predicted excitatory/inhibitory when its feature A is above certain value. What will be the best split? Give your answer as 'The split should be at feature A = ...(1/2/3/4)', and compute the gain. Round your answer to 3 decimal places (0.001).\n",
    "\n",
    "_Points:_ 0.2"
   ]
  },
  {
   "cell_type": "markdown",
   "id": "8c63e3b0",
   "metadata": {},
   "source": [
    "The split should be at feature A = 2\n",
    "\n",
    "$$ G(S,B) = H(S) - \\sum_{i=1}^t \\frac{\\left|S_i\\right|}{|S|} H\\left(S_i\\right)$$\n",
    "When split is A = 2 ...\n",
    "$$ \\begin{aligned} \n",
    "G(S,B) &= H(S) - (G(S_{left}) + G(S_{right})) \\\\\n",
    "G(S,B) &= H(S) - ((-\\frac{5}{9}((\\frac{1}{5}\\log_2(\\frac{1}{5})) + (\\frac{4}{5}\\log_2(\\frac{4}{5})))) + (-\\frac{4}{9}((\\frac{3}{4}\\log_2(\\frac{3}{4})) + (\\frac{1}{4}\\log_2(\\frac{1}{4}))))) \\\\\n",
    "G(S,B) &= H(S) - 0.76163921 \\\\ \n",
    "G(S,B) &= 0.991 - 0.7616 \\\\\n",
    "G(S,B) &= 0.229\n",
    "\\end{aligned}$$"
   ]
  },
  {
   "cell_type": "markdown",
   "id": "6e923186",
   "metadata": {},
   "source": [
    "<!-- END QUESTION -->\n",
    "\n",
    "<!-- BEGIN QUESTION -->\n",
    "\n",
    "## Question 4.3\n",
    "Similarly, what will be the best split based on feature B? Give your answer as 'The split should be at feature B = ...(1/2)', and compute the gain. Round your answer to 3 decimal places (0.001).\n",
    "\n",
    "_Points:_ 0.2"
   ]
  },
  {
   "cell_type": "markdown",
   "id": "d3b47e35",
   "metadata": {},
   "source": [
    "The split should be at feature B = 2\n",
    "\n",
    "$$ G(S,B) = H(S) - \\sum_{i=1}^t \\frac{\\left|S_i\\right|}{|S|} H\\left(S_i\\right)$$\n",
    "When split is B = 2 ...\n",
    "$$ \\begin{aligned} \n",
    "G(S,B) &= H(S) - (G(S_{bottom}) + G(S_{top})) \\\\\n",
    "G(S,B) &= H(S) - ((-\\frac{5}{9}((\\frac{3}{5}\\log_2(\\frac{3}{5})) + (\\frac{2}{5}\\log_2(\\frac{2}{5})))) + (-\\frac{4}{9}((\\frac{1}{4}\\log_2(\\frac{1}{4})) + (\\frac{3}{4}\\log_2(\\frac{3}{4}))))) \\\\\n",
    "G(S,B) &= H(S) - 0.8999 \\\\ \n",
    "G(S,B) &= 0.991 - 0.8999 \\\\\n",
    "G(S,B) &= 0.091\n",
    "\\end{aligned}$$"
   ]
  },
  {
   "cell_type": "markdown",
   "id": "30a37984",
   "metadata": {},
   "source": [
    "<!-- END QUESTION -->\n",
    "\n",
    "<!-- BEGIN QUESTION -->\n",
    "\n",
    "## Question 4.4\n",
    "When constructing a decision tree classifier, what are some good and bad rules of thumb and why?\n",
    "\n",
    "_Points:_ 0.2"
   ]
  },
  {
   "cell_type": "markdown",
   "id": "d8db7237",
   "metadata": {},
   "source": [
    "Some good rules of thumb include trying to create the lowest entropy and spreading out the tree evenly, which allows for less disorder and quicker prediction thumbs. Thus this means we also are wanting to create a shallow tree instead of a deep tree to keep the complexity level low, as well as trying to create a balanced tree to minimize overfitting. This might look like minimizing the recursive funciton. On the other hand, for bad rules of thumb, we should be avoiding the opposite. Thus, we should avoid creating deep and unbalanced trees to avoid overfitting and high complexity levels."
   ]
  },
  {
   "cell_type": "markdown",
   "id": "f63c243c",
   "metadata": {},
   "source": [
    "<!-- END QUESTION -->\n",
    "\n",
    "# End of A3"
   ]
  },
  {
   "cell_type": "markdown",
   "id": "294ee059",
   "metadata": {
    "deletable": false,
    "editable": false
   },
   "source": [
    "## Submission\n",
    "\n",
    "Make sure you have run all cells in your notebook in order before running the cell below, so that all images/graphs appear in the output. The cell below will generate a zip file for you to submit.\n",
    "\n",
    "Please make sure to see the output of the gradescope autograder. You are responsible for waiting and ensuring that the autograder is executing normally for your submission. Please create a campuswire post if you see errors in autograder execution."
   ]
  },
  {
   "cell_type": "code",
   "execution_count": null,
   "id": "2368115e",
   "metadata": {
    "deletable": false,
    "editable": false
   },
   "outputs": [],
   "source": [
    "grader.export(pdf=False, force_save=True, run_tests=True, files=['imgs'])"
   ]
  },
  {
   "cell_type": "markdown",
   "id": "7c0c7490",
   "metadata": {},
   "source": [
    " "
   ]
  }
 ],
 "metadata": {
  "celltoolbar": "Raw Cell Format",
  "kernelspec": {
   "display_name": "Python 3 (ipykernel)",
   "language": "python",
   "name": "python3"
  },
  "language_info": {
   "codemirror_mode": {
    "name": "ipython",
    "version": 3
   },
   "file_extension": ".py",
   "mimetype": "text/x-python",
   "name": "python",
   "nbconvert_exporter": "python",
   "pygments_lexer": "ipython3",
   "version": "3.9.16"
  },
  "otter": {
   "OK_FORMAT": true,
   "tests": {
    "MCQ_LR_1": {
     "name": "MCQ_LR_1",
     "points": 0.2,
     "suites": [
      {
       "cases": [
        {
         "code": ">>> # sanity check\n>>> all_options = [\"A\", \"B\", \"C\", \"D\"]\n>>> check_valid = lambda ans, all_options: all([chosen in all_options for chosen in ans])\n>>> assert check_valid(q1_1, all_options), \"Is your answer within the option of A/B/C/D?\"\n",
         "hidden": false,
         "locked": false
        }
       ],
       "scored": true,
       "setup": "",
       "teardown": "",
       "type": "doctest"
      }
     ]
    },
    "MCQ_LR_2": {
     "name": "MCQ_LR_2",
     "points": 0.2,
     "suites": [
      {
       "cases": [
        {
         "code": ">>> # sanity check\n>>> all_options = [\"A\", \"B\", \"C\", \"D\"]\n>>> check_valid = lambda ans, all_options: all([chosen in all_options for chosen in ans])\n>>> assert check_valid(q1_2, all_options), \"Is your answer within the option of A/B/C/D?\"\n",
         "hidden": false,
         "locked": false
        }
       ],
       "scored": true,
       "setup": "",
       "teardown": "",
       "type": "doctest"
      }
     ]
    },
    "MCQ_LR_3": {
     "name": "MCQ_LR_3",
     "points": 0.2,
     "suites": [
      {
       "cases": [
        {
         "code": ">>> # sanity check\n>>> all_options = [\"A\", \"B\", \"C\", \"D\"]\n>>> check_valid = lambda ans, all_options: all([chosen in all_options for chosen in ans])\n>>> assert check_valid(q1_3, all_options), \"Is your answer within the option of A/B/C/D?\"\n",
         "hidden": false,
         "locked": false
        }
       ],
       "scored": true,
       "setup": "",
       "teardown": "",
       "type": "doctest"
      }
     ]
    },
    "MCQ_LR_4_1": {
     "name": "MCQ_LR_4_1",
     "points": 0.2,
     "suites": [
      {
       "cases": [
        {
         "code": ">>> # sanity check\n>>> all_options = [\"A\", \"B\", \"C\", \"D\"]\n>>> check_valid = lambda ans, all_options: all([chosen in all_options for chosen in ans])\n>>> assert check_valid(q1_4_1, all_options), \"Is your answer within the option of A/B/C/D?\"\n",
         "hidden": false,
         "locked": false
        }
       ],
       "scored": true,
       "setup": "",
       "teardown": "",
       "type": "doctest"
      }
     ]
    },
    "MCQ_LR_4_2": {
     "name": "MCQ_LR_4_2",
     "points": 0.2,
     "suites": [
      {
       "cases": [
        {
         "code": ">>> # sanity check\n>>> all_options = [\"A\", \"B\", \"C\", \"D\"]\n>>> check_valid = lambda ans, all_options: all([chosen in all_options for chosen in ans])\n>>> assert check_valid(q1_4_2, all_options), \"Is your answer within the option of A/B/C/D?\"\n",
         "hidden": false,
         "locked": false
        }
       ],
       "scored": true,
       "setup": "",
       "teardown": "",
       "type": "doctest"
      }
     ]
    }
   }
  }
 },
 "nbformat": 4,
 "nbformat_minor": 5
}
